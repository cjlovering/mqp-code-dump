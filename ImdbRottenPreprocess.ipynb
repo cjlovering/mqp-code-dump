{
 "cells": [
  {
   "cell_type": "markdown",
   "metadata": {},
   "source": [
    "# Other Version"
   ]
  },
  {
   "cell_type": "code",
   "execution_count": 1,
   "metadata": {
    "collapsed": true
   },
   "outputs": [],
   "source": [
    "%load_ext autoreload\n",
    "%autoreload 1\n",
    "import cntk as C\n",
    "import random"
   ]
  },
  {
   "cell_type": "code",
   "execution_count": 3,
   "metadata": {
    "collapsed": true
   },
   "outputs": [],
   "source": [
    "data_path = \"data\\\\rotten_imdb\\\\\"\n",
    "with open(data_path + \"objective\", 'r') as f:\n",
    "    objective = [ unicode(s, errors='ignore').replace('.','').strip() for s in f.read().splitlines() ]\n",
    "with open(data_path + \"subjective\", 'r') as f:\n",
    "    subjective = [ unicode(s, errors='ignore').replace('.','').strip() for s in f.read().splitlines() ]"
   ]
  },
  {
   "cell_type": "code",
   "execution_count": 4,
   "metadata": {},
   "outputs": [],
   "source": [
    "objective_labels = [ \"objective\" for _ in range(5000) ]\n",
    "subjective_labels = [  \"subjective\" for _ in range(5000) ]\n",
    "data = objective + subjective\n",
    "labels = objective_labels + subjective_labels"
   ]
  },
  {
   "cell_type": "code",
   "execution_count": 5,
   "metadata": {
    "collapsed": true
   },
   "outputs": [],
   "source": [
    "from sklearn.model_selection import train_test_split\n",
    "X_train, X_test, y_train, y_test = train_test_split(data, labels, test_size=0.20, random_state=42)\n",
    "X_train, X_val, y_train, y_val = train_test_split(X_train, y_train, test_size=0.05, random_state=42)"
   ]
  },
  {
   "cell_type": "code",
   "execution_count": 6,
   "metadata": {
    "collapsed": true
   },
   "outputs": [],
   "source": [
    "vocab = \" \".join(data).split(\" \")\n",
    "vocab = [ word.strip() for word in vocab ]\n",
    "vocab = set(vocab)"
   ]
  },
  {
   "cell_type": "code",
   "execution_count": 7,
   "metadata": {},
   "outputs": [
    {
     "name": "stdout",
     "output_type": "stream",
     "text": [
      "23897\n"
     ]
    }
   ],
   "source": [
    "max_len = len(set(vocab))\n",
    "print max_len"
   ]
  },
  {
   "cell_type": "code",
   "execution_count": 8,
   "metadata": {
    "collapsed": true
   },
   "outputs": [],
   "source": [
    "with open(data_path+\"imdb.words.dictionary.txt\", 'w') as f:\n",
    "    for word in vocab:\n",
    "        f.write(\"{0}\\n\".format(word))\n",
    "with open(data_path+\"imdb.label.dictionary.txt\", 'w') as f:\n",
    "    labels = [\"objective\", \"subjective\"]\n",
    "    for l in labels:\n",
    "        f.write(\"{0}\\n\".format(l))"
   ]
  },
  {
   "cell_type": "code",
   "execution_count": 12,
   "metadata": {},
   "outputs": [],
   "source": [
    "def save_input_file(name, X, y):\n",
    "    with open(data_path+\"imdb.{0}.input.txt\".format(name), 'w') as f:\n",
    "        for i in range(len(X)):\n",
    "            sentence = X[i]\n",
    "            label = y[i]\n",
    "            f.write(\"{0}\\t{1}\\n\".format(sentence, label))\n",
    "\n",
    "save_input_file(\"train\", X_train, y_train)\n",
    "save_input_file(\"test\", X_test, y_test)\n",
    "save_input_file(\"val\", X_val, y_val)"
   ]
  },
  {
   "cell_type": "code",
   "execution_count": 13,
   "metadata": {
    "collapsed": true
   },
   "outputs": [],
   "source": [
    "# python convert.py --input rotten_imdb\\imdb.test.input.txt --map rotten_imdb\\imdb.words.dictionary.txt rotten_imdb\\imdb.label.dictionary.txt --output rotten_imdb\\imdb.test.ctf\n",
    "# python convert.py --input rotten_imdb\\imdb.train.input.txt --map rotten_imdb\\imdb.words.dictionary.txt rotten_imdb\\imdb.label.dictionary.txt --output rotten_imdb\\imdb.train.ctf\n",
    "# python convert.py --input rotten_imdb\\imdb.val.input.txt --map rotten_imdb\\imdb.words.dictionary.txt rotten_imdb\\imdb.label.dictionary.txt --output rotten_imdb\\imdb.val.ctf"
   ]
  }
 ],
 "metadata": {
  "kernelspec": {
   "display_name": "Python 2",
   "language": "python",
   "name": "python2"
  },
  "language_info": {
   "codemirror_mode": {
    "name": "ipython",
    "version": 2
   },
   "file_extension": ".py",
   "mimetype": "text/x-python",
   "name": "python",
   "nbconvert_exporter": "python",
   "pygments_lexer": "ipython2",
   "version": "2.7.13"
  }
 },
 "nbformat": 4,
 "nbformat_minor": 2
}
