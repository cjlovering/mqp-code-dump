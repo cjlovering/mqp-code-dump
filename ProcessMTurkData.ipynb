{
 "cells": [
  {
   "cell_type": "code",
   "execution_count": 1,
   "metadata": {
    "collapsed": true
   },
   "outputs": [],
   "source": [
    "%load_ext autoreload\n",
    "%autoreload 1\n",
    "import nltk\n",
    "import csv\n",
    "import random"
   ]
  },
  {
   "cell_type": "code",
   "execution_count": 2,
   "metadata": {
    "collapsed": true
   },
   "outputs": [],
   "source": [
    "data_path = \"data/bbc/results\""
   ]
  },
  {
   "cell_type": "code",
   "execution_count": 3,
   "metadata": {
    "collapsed": true
   },
   "outputs": [],
   "source": [
    "with open(\"{0}/batch_250.csv\".format(data_path), 'r') as f:\n",
    "    reader = csv.reader(f)\n",
    "    data = [l for l in reader]\n",
    "    header = data[0]\n",
    "    rows = data[1:]"
   ]
  },
  {
   "cell_type": "code",
   "execution_count": 4,
   "metadata": {},
   "outputs": [
    {
     "name": "stdout",
     "output_type": "stream",
     "text": [
      "Bloom is to be formally presented with the Hans Christian Andersen Award this spring in Anderson's hometown of Odense.\n"
     ]
    }
   ],
   "source": [
    "print data[2][-5]"
   ]
  },
  {
   "cell_type": "code",
   "execution_count": 5,
   "metadata": {
    "collapsed": true
   },
   "outputs": [],
   "source": [
    "def to_label(label):\n",
    "    if label == 'category 1':\n",
    "        return 'objective'\n",
    "    if label == 'category 2':\n",
    "        return 'subjective'\n",
    "    return 'other'\n",
    "def to_sentence(sent):\n",
    "    return sent.replace('^',',')\n",
    "data = [to_sentence(r[-5]) for r in rows]\n",
    "labels = [to_label(r[-1]) for r in rows]"
   ]
  },
  {
   "cell_type": "code",
   "execution_count": 6,
   "metadata": {
    "collapsed": true
   },
   "outputs": [],
   "source": [
    "from sklearn.model_selection import train_test_split\n",
    "X_train, X_test, y_train, y_test = train_test_split(data, labels, test_size=0.50, random_state=42)\n",
    "X_train, X_val, y_train, y_val = train_test_split(X_train, y_train, test_size=0.05, random_state=42)"
   ]
  },
  {
   "cell_type": "code",
   "execution_count": 8,
   "metadata": {
    "collapsed": true
   },
   "outputs": [],
   "source": [
    "result = \"data/bbc/aggregated\"\n",
    "batch = \"250\"\n",
    "def save_input_file(name, X, y):\n",
    "    with open(\"data/bbc/aggregated/bbc.{0}.{1}.input.txt\".format(batch, name), 'w') as f:\n",
    "        for i in range(len(X)):\n",
    "            sentence = X[i]\n",
    "            label = y[i]\n",
    "            f.write(\"{0}\\t{1}\\n\".format(sentence, label))\n",
    "\n",
    "save_input_file(\"train\", X_train, y_train)\n",
    "save_input_file(\"test\", X_test, y_test)\n",
    "save_input_file(\"val\", X_val, y_val)"
   ]
  }
 ],
 "metadata": {
  "kernelspec": {
   "display_name": "Python 2",
   "language": "python",
   "name": "python2"
  },
  "language_info": {
   "codemirror_mode": {
    "name": "ipython",
    "version": 2
   },
   "file_extension": ".py",
   "mimetype": "text/x-python",
   "name": "python",
   "nbconvert_exporter": "python",
   "pygments_lexer": "ipython2",
   "version": "2.7.13"
  }
 },
 "nbformat": 4,
 "nbformat_minor": 2
}
